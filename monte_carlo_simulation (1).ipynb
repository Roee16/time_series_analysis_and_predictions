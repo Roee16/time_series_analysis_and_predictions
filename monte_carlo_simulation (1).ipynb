{
 "cells": [
  {
   "cell_type": "code",
   "execution_count": null,
   "id": "ddd543ed-79f4-4b63-aa4f-1b787fd9ba50",
   "metadata": {},
   "outputs": [],
   "source": [
    "# monte_carlo_simulation"
   ]
  },
  {
   "cell_type": "code",
   "execution_count": null,
   "id": "8f974e15-f52c-40ae-adc6-b5a1fb9c4c4e",
   "metadata": {},
   "outputs": [],
   "source": [
    "'''\n",
    "Monte Carlo simulations are a great way to predict stock price movements by simulating\n",
    "various possible future outcomes. Here’s a detailed example of how to perform Monte Carlo \n",
    "simulations in Python for stock price predictions:\n",
    "'''"
   ]
  },
  {
   "cell_type": "code",
   "execution_count": null,
   "id": "563823f3-f72a-4956-b63a-f41df5406650",
   "metadata": {},
   "outputs": [],
   "source": [
    "'''\n",
    "In this example:\n",
    "\n",
    "start_price is the starting price of the stock.\n",
    "\n",
    "mu is the expected return, calculated as the mean daily return.\n",
    "\n",
    "sigma is the volatility, calculated as the standard deviation of daily returns.\n",
    "\n",
    "num_simulations is the number of simulation paths to generate.\n",
    "\n",
    "num_days is the number of days to simulate.\n",
    "\n",
    "The monte_carlo_simulation function generates random daily returns based on a normal distribution and iteratively calculates the stock price for each day. The results are then plotted to visualize the possible future stock prices.\n",
    "\n",
    "This code gives you a basic framework for Monte Carlo simulations.\n",
    "'''"
   ]
  },
  {
   "cell_type": "code",
   "execution_count": null,
   "id": "1173c1ed-38bd-43ec-9a21-da5ab02801d7",
   "metadata": {},
   "outputs": [],
   "source": [
    "import numpy as np\n",
    "import pandas as pd\n",
    "import matplotlib.pyplot as plt\n",
    "\n",
    "def monte_carlo_simulation(start_price, mu, sigma, num_simulations, num_days):\n",
    "    \"\"\"\n",
    "    Perform Monte Carlo simulations for stock price predictions.\n",
    "    \n",
    "    Parameters:\n",
    "    - start_price: the starting price of the stock\n",
    "    - mu: expected return\n",
    "    - sigma: volatility\n",
    "    - num_simulations: number of simulation paths\n",
    "    - num_days: number of days to simulate\n",
    "    \n",
    "    Returns:\n",
    "    - simulations: a DataFrame containing all the simulation paths\n",
    "    \"\"\"\n",
    "    simulations = np.zeros((num_days, num_simulations))\n",
    "    simulations[0] = start_price\n",
    "    \n",
    "    for day in range(1, num_days):\n",
    "        daily_returns = np.random.normal(mu / num_days, sigma / np.sqrt(num_days), num_simulations)\n",
    "        simulations[day] = simulations[day - 1] * (1 + daily_returns)\n",
    "    \n",
    "    return pd.DataFrame(simulations)\n",
    "\n",
    "# Example usage\n",
    "# Load dataset (use your own data)\n",
    "data = pd.read_csv('your_stock_data.csv')\n",
    "data['Date'] = pd.to_datetime(data['Date'])\n",
    "data.set_index('Date', inplace=True)\n",
    "\n",
    "# Parameters\n",
    "start_price = data['Close'].iloc[-1]  # Last closing price\n",
    "mu = data['Close'].pct_change().mean()  # Mean daily return\n",
    "sigma = data['Close'].pct_change().std()  # Daily return volatility\n",
    "num_simulations = 1000\n",
    "num_days = 252  # Number of trading days in a year\n",
    "\n",
    "# Run Monte Carlo simulation\n",
    "simulations = monte_carlo_simulation(start_price, mu, sigma, num_simulations, num_days)\n",
    "\n",
    "# Plotting the results\n",
    "plt.figure(figsize=(10, 6))\n",
    "plt.plot(simulations)\n",
    "plt.title('Monte Carlo Simulation for Stock Price Predictions')\n",
    "plt.xlabel('Days')\n",
    "plt.ylabel('Price')\n",
    "plt.show()"
   ]
  },
  {
   "cell_type": "code",
   "execution_count": null,
   "id": "d2096325-b770-4464-8026-f04549a2db73",
   "metadata": {},
   "outputs": [],
   "source": []
  }
 ],
 "metadata": {
  "kernelspec": {
   "display_name": "Python 3 (ipykernel)",
   "language": "python",
   "name": "python3"
  },
  "language_info": {
   "codemirror_mode": {
    "name": "ipython",
    "version": 3
   },
   "file_extension": ".py",
   "mimetype": "text/x-python",
   "name": "python",
   "nbconvert_exporter": "python",
   "pygments_lexer": "ipython3",
   "version": "3.11.5"
  }
 },
 "nbformat": 4,
 "nbformat_minor": 5
}
